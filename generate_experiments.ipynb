{
 "cells": [
  {
   "cell_type": "code",
   "execution_count": 27,
   "metadata": {},
   "outputs": [
    {
     "data": {
      "text/plain": [
       "{'field': [(47, 15), (43, 39), (39, 36), (1, 6), (29, 2), (39, 1), (46, 2)],\n",
       " 'init_positions': [(37, 11), (44, 21), (7, 10)],\n",
       " 'infected_locations': [(13, 6),\n",
       "  (35, 13),\n",
       "  (28, 21),\n",
       "  (31, 21),\n",
       "  (31, 19),\n",
       "  (42, 7)]}"
      ]
     },
     "execution_count": 27,
     "metadata": {},
     "output_type": "execute_result"
    }
   ],
   "source": [
    "# Import libraries\n",
    "import matplotlib.pyplot as plt\n",
    "from shapely import Polygon\n",
    "from shapely.geometry import Point\n",
    "from scipy.spatial import ConvexHull, distance\n",
    "import numpy as np\n",
    "import os\n",
    "import yaml\n",
    "\n",
    "plt.rcParams[\"figure.figsize\"] = (5,5)\n",
    "experiment = {}\n",
    "\n",
    "# Generate field\n",
    "num_points = np.random.randint(5,10)\n",
    "x = [np.random.randint(0, 100/2) for i in range(num_points)]\n",
    "y = [np.random.randint(0, 100/2) for i in range(num_points)]\n",
    "vertices = list(set(zip(x,y)))\n",
    "hull = ConvexHull(vertices)\n",
    "conv_vertices = [vertices[i] for i in hull.vertices]\n",
    "field_poly = Polygon(conv_vertices)\n",
    "experiment['field'] = conv_vertices\n",
    "\n",
    "# Generate initial drone positions\n",
    "experiment['init_positions'] = []\n",
    "while len(experiment['init_positions']) < 3:\n",
    "    new_point = (np.random.randint(0, 100/2), np.random.randint(0, 100/2))\n",
    "    if field_poly.contains(Point(new_point)) and all(distance.euclidean(new_point, p) >= 5 for p in experiment['init_positions']):\n",
    "        experiment['init_positions'].append(new_point)\n",
    "\n",
    "# Generate weed locations\n",
    "# Generate field\n",
    "num_weeds = np.random.randint(5,10)\n",
    "experiment['infected_locations'] = []\n",
    "while len(experiment['infected_locations']) < num_weeds:\n",
    "    new_point = (np.random.randint(0, 100/2), np.random.randint(0, 100/2))\n",
    "    if field_poly.contains(Point(new_point)) and new_point not in experiment['infected_locations']:\n",
    "        experiment['infected_locations'].append(new_point)\n",
    "\n",
    "file = lambda x: f'experiments/set{x}.yaml'\n",
    "counter = 1\n",
    "while os.path.exists(file(counter)):\n",
    "    counter += 1\n",
    "with open(file(counter), 'w') as save_file:\n",
    "    yaml.dump(experiment, save_file)\n",
    "\n",
    "experiment"
   ]
  }
 ],
 "metadata": {
  "kernelspec": {
   "display_name": "wd",
   "language": "python",
   "name": "python3"
  },
  "language_info": {
   "codemirror_mode": {
    "name": "ipython",
    "version": 3
   },
   "file_extension": ".py",
   "mimetype": "text/x-python",
   "name": "python",
   "nbconvert_exporter": "python",
   "pygments_lexer": "ipython3",
   "version": "3.12.4"
  }
 },
 "nbformat": 4,
 "nbformat_minor": 2
}
